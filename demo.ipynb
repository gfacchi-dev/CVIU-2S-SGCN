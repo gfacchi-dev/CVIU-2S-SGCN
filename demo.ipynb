{
 "cells": [
  {
   "cell_type": "code",
   "execution_count": 1,
   "metadata": {},
   "outputs": [],
   "source": [
    "import os\n",
    "\n",
    "dest = '/home/studenti/facchi/projects/CVIU-2S-SGCN/.data/raw'\n",
    "src = '/var/datasets/FS_NEU_OBJ/neutral'\n",
    "\n",
    "for i, subj in enumerate(os.listdir(src)):\n",
    "    if not os.path.exists(os.path.join(dest, subj)):\n",
    "        os.makedirs(os.path.join(dest, subj))\n",
    "    for file in os.listdir(os.path.join(src, subj)):\n",
    "        os.symlink(os.path.join(src, subj, file), os.path.join(dest, subj, file))\n",
    "    if i == 100:\n",
    "        break"
   ]
  }
 ],
 "metadata": {
  "kernelspec": {
   "display_name": "lafas",
   "language": "python",
   "name": "python3"
  },
  "language_info": {
   "codemirror_mode": {
    "name": "ipython",
    "version": 3
   },
   "file_extension": ".py",
   "mimetype": "text/x-python",
   "name": "python",
   "nbconvert_exporter": "python",
   "pygments_lexer": "ipython3",
   "version": "3.10.13"
  }
 },
 "nbformat": 4,
 "nbformat_minor": 2
}
